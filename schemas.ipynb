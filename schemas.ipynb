{
 "cells": [
  {
   "cell_type": "code",
   "execution_count": 0,
   "metadata": {
    "application/vnd.databricks.v1+cell": {
     "cellMetadata": {
      "byteLimit": 2048000,
      "implicitDf": true,
      "rowLimit": 10000
     },
     "inputWidgets": {},
     "nuid": "c5993d35-188f-4794-8330-11808ee796ae",
     "showTitle": false,
     "tableResultSettingsMap": {},
     "title": ""
    }
   },
   "outputs": [],
   "source": [
    "%sql\n",
    "create catalog c1"
   ]
  },
  {
   "cell_type": "code",
   "execution_count": 0,
   "metadata": {
    "application/vnd.databricks.v1+cell": {
     "cellMetadata": {
      "byteLimit": 2048000,
      "implicitDf": true,
      "rowLimit": 10000
     },
     "inputWidgets": {},
     "nuid": "fae3966f-0b84-491b-86ca-641bce421ca4",
     "showTitle": false,
     "tableResultSettingsMap": {},
     "title": ""
    }
   },
   "outputs": [],
   "source": [
    "%sql\n",
    "create schema c1.s1"
   ]
  },
  {
   "cell_type": "code",
   "execution_count": 0,
   "metadata": {
    "application/vnd.databricks.v1+cell": {
     "cellMetadata": {
      "byteLimit": 2048000,
      "implicitDf": true,
      "rowLimit": 10000
     },
     "inputWidgets": {},
     "nuid": "4de0688a-8213-4c70-ad4c-90cd2fd61bb4",
     "showTitle": false,
     "tableResultSettingsMap": {},
     "title": ""
    }
   },
   "outputs": [],
   "source": [
    "%sql\n",
    "CREATE TABLE IF NOT EXISTS c1.s1.external_customertable(\n",
    "  Id INT,\n",
    "  NAME STRING,\n",
    "  Email STRING,\n",
    "  Salary DOUBLE,\n",
    "  Age INT\n",
    ") \n",
    "USING DELTA "
   ]
  },
  {
   "cell_type": "code",
   "execution_count": 0,
   "metadata": {
    "application/vnd.databricks.v1+cell": {
     "cellMetadata": {
      "byteLimit": 2048000,
      "implicitDf": true,
      "rowLimit": 10000
     },
     "inputWidgets": {},
     "nuid": "90bbb6fc-a026-47f4-8da8-bbcd7c49e9a6",
     "showTitle": false,
     "tableResultSettingsMap": {},
     "title": ""
    }
   },
   "outputs": [],
   "source": [
    "%sql\n",
    "-- Insert the data into table\n",
    "INSERT INTO c1.s1.external_customertable VALUES (97, 'John', 'Doejohn@ou.com',13432.2,28),\n",
    "(67, 'ne Smith','ne@ou.com',12345.6,22),\n",
    "(87,'qeall','qell@sk.in',21990.9,32),\n",
    "(80, 'John wii', 'wii@ou.com',13432.2,28),\n",
    "(77, 'jh Smith','jh@ou.com',12345.6,23),\n",
    "(96,'wall','wall@sk.in',21990.9,23),\n",
    "(81, 'John wiii','asi@jj.in',9880.9,19),\n",
    "(1, 'John', 'Doejohn@ou.com', 13432.2, 28),\n",
    "(2, 'Jane', 'jane@ou.com', 14500.5, 30),\n",
    "(3, 'Sam', 'sam@sk.in', 9800.7, 25),\n",
    "(4, 'Alice', 'alice@jj.in', 11230.9, 27),\n",
    "(5, 'Bob', 'bob@ou.com', 12500.6, 24),\n",
    "(6, 'ne Smith', 'ne@ou.com', 12345.6, 22),\n",
    "(7, 'jh Smith', 'jh@ou.com', 12345.6, 23),\n",
    "(8, 'qeall', 'qell@sk.in', 21990.9, 32),\n",
    "(9, 'wall', 'wall@sk.in', 21990.9, 23),\n",
    "(10, 'John wii', 'wii@ou.com', 13432.2, 28),\n",
    "(11, 'John wiii', 'asi@jj.in', 9880.9, 19),\n",
    "(12, 'Emily', 'emily@jj.in', 13100.4, 29),\n",
    "(13, 'Michael', 'michael@ou.com', 12000.8, 31),\n",
    "(14, 'Sarah', 'sarah@sk.in', 11050.3, 26),\n",
    "(15, 'David', 'david@jj.in', 11500.7, 28),\n",
    "(16, 'Anna', 'anna@ou.com', 14200.9, 27),\n",
    "(17, 'Chris', 'chris@sk.in', 12950.6, 30),\n",
    "(18, 'Katie', 'katie@jj.in', 10200.5, 25),\n",
    "(19, 'James', 'james@ou.com', 13800.2, 29),\n",
    "(20, 'Olivia', 'olivia@sk.in', 15000.8, 24),\n",
    "(21, 'Liam', 'liam@jj.in', 14650.9, 32),\n",
    "(22, 'Sophia', 'sophia@ou.com', 14000.5, 31),\n",
    "(23, 'Noah', 'noah@sk.in', 11800.7, 27),\n",
    "(24, 'Mia', 'mia@jj.in', 10950.6, 26),\n",
    "(25, 'Isabella', 'isabella@ou.com', 13500.4, 29),\n",
    "(26, 'Aiden', 'aiden@sk.in', 12100.2, 30),\n",
    "(27, 'Lucas', 'lucas@jj.in', 12700.8, 25),\n",
    "(28, 'Amelia', 'amelia@ou.com', 11300.5, 28),\n",
    "(29, 'Zoe', 'zoe@sk.in', 13900.9, 31),\n",
    "(30, 'Jackson', 'jackson@jj.in', 12250.6, 24),\n",
    "(31, 'Harper', 'harper@ou.com', 11600.7, 32),\n",
    "(32, 'Grayson', 'grayson@sk.in', 12400.8, 27),\n",
    "(33, 'Ella', 'ella@jj.in', 14350.9, 26),\n",
    "(34, 'Madison', 'madison@ou.com', 11700.5, 30),\n",
    "(35, 'Ethan', 'ethan@sk.in', 13000.6, 29),\n",
    "(36, 'Avery', 'avery@jj.in', 14850.2, 25),\n",
    "(37, 'Oliver', 'oliver@ou.com', 12600.3, 28),\n",
    "(38, 'Charlotte', 'charlotte@sk.in', 13200.4, 31),\n",
    "(39, 'Henry', 'henry@jj.in', 14450.6, 27),\n",
    "(40, 'Abigail', 'abigail@ou.com', 14100.7, 29),\n",
    "(41, 'Sebastian', 'sebastian@sk.in', 13300.8, 26),\n",
    "(42, 'Emily', 'emily@jj.in', 11000.9, 32),\n",
    "(43, 'Daniel', 'daniel@ou.com', 11900.5, 24),\n",
    "(44, 'Samantha', 'samantha@sk.in', 13750.6, 27),\n",
    "(45, 'Nathan', 'nathan@jj.in', 14900.2, 30);"
   ]
  },
  {
   "cell_type": "code",
   "execution_count": 0,
   "metadata": {
    "application/vnd.databricks.v1+cell": {
     "cellMetadata": {
      "byteLimit": 2048000,
      "implicitDf": true,
      "rowLimit": 10000
     },
     "inputWidgets": {},
     "nuid": "07f990be-3b5e-42d5-b4e9-7dd2ad082a6f",
     "showTitle": false,
     "tableResultSettingsMap": {},
     "title": ""
    }
   },
   "outputs": [],
   "source": [
    "%sql\n",
    "create table c1.s1.t1(\n",
    " Id INT,\n",
    "  NAME STRING,\n",
    "  Email STRING,\n",
    "  Salary DOUBLE,\n",
    "  Age INT\n",
    ") \n",
    "USING DELTA ;\n",
    "\n",
    "-- Insert the data into table\n",
    "INSERT INTO c1.s1.t1 VALUES \n",
    "(197, 'John', 'Doejohn@ou.com',13432.2,28),\n",
    "(167, 'ne Smith','ne@ou.com',12345.6,22),\n",
    "(187,'qeall','qell@sk.in',21990.9,32),\n",
    "(180, 'John wii', 'wii@ou.com',13432.2,28),\n",
    "(177, 'jh Smith','jh@ou.com',12345.6,23),\n",
    "(196,'wall','wall@sk.in',21990.9,23),\n",
    "(181, 'John wiii','asi@jj.in',9880.9,19)\n"
   ]
  }
 ],
 "metadata": {
  "application/vnd.databricks.v1+notebook": {
   "computePreferences": null,
   "dashboards": [],
   "environmentMetadata": {
    "base_environment": "",
    "environment_version": "2"
   },
   "language": "python",
   "notebookMetadata": {
    "mostRecentlyExecutedCommandWithImplicitDF": {
     "commandId": 5284908701433361,
     "dataframes": [
      "_sqldf"
     ]
    },
    "pythonIndentUnit": 4
   },
   "notebookName": "schemas",
   "widgets": {}
  },
  "language_info": {
   "name": "python"
  }
 },
 "nbformat": 4,
 "nbformat_minor": 0
}
