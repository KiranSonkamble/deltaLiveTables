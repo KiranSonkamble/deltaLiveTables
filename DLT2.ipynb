{
 "cells": [
  {
   "cell_type": "markdown",
   "metadata": {
    "application/vnd.databricks.v1+cell": {
     "cellMetadata": {},
     "inputWidgets": {},
     "nuid": "8775bba7-ba01-4b09-a43a-632f9fd39d2b",
     "showTitle": false,
     "tableResultSettingsMap": {},
     "title": ""
    }
   },
   "source": [
    "## Append Flow"
   ]
  },
  {
   "cell_type": "code",
   "execution_count": 0,
   "metadata": {
    "application/vnd.databricks.v1+cell": {
     "cellMetadata": {
      "byteLimit": 2048000,
      "rowLimit": 10000
     },
     "inputWidgets": {},
     "nuid": "9e18c1f0-b58a-4b7d-8b91-c7374415e214",
     "showTitle": false,
     "tableResultSettingsMap": {},
     "title": ""
    }
   },
   "outputs": [],
   "source": [
    "# create bronze layer with streaming table\n",
    "\n",
    "@dlt.table\n",
    "\n",
    "def bronze_stream_table1():\n",
    "    # Read streaming data from the specified source table\n",
    "    df = spark.readStream.table(\"c1.s1.external_customertable\")\n",
    "    return df\n"
   ]
  },
  {
   "cell_type": "code",
   "execution_count": 0,
   "metadata": {
    "application/vnd.databricks.v1+cell": {
     "cellMetadata": {},
     "inputWidgets": {},
     "nuid": "571ebda5-4c99-448b-bb4a-04282afd490b",
     "showTitle": false,
     "tableResultSettingsMap": {},
     "title": ""
    }
   },
   "outputs": [],
   "source": [
    "# Bronze layer with customer table2\n",
    "@dlt.table\n",
    "def bronze_stream_table2():\n",
    "    # Read streaming data from the specified source table\n",
    "    df = spark.readStream.table(\"c1.s1.t1\")\n",
    "    return df"
   ]
  },
  {
   "cell_type": "markdown",
   "metadata": {
    "application/vnd.databricks.v1+cell": {
     "cellMetadata": {},
     "inputWidgets": {},
     "nuid": "8c522d32-9b3f-4913-9b57-0e41c35e8ea1",
     "showTitle": false,
     "tableResultSettingsMap": {},
     "title": ""
    }
   },
   "source": [
    "### Append flow streaming table\n"
   ]
  },
  {
   "cell_type": "code",
   "execution_count": 0,
   "metadata": {
    "application/vnd.databricks.v1+cell": {
     "cellMetadata": {},
     "inputWidgets": {},
     "nuid": "ea8c2951-427a-42e7-8cfd-9d419a3e02c7",
     "showTitle": false,
     "tableResultSettingsMap": {},
     "title": ""
    }
   },
   "outputs": [],
   "source": [
    "import dlt\n",
    "\n",
    "# create a epty table\n",
    "dlt.create_streaming_table(\"Silver_append_flow_table\")\n",
    "\n",
    "# create a append flow\n",
    "# table1\n",
    "@dlt.append_flow(\n",
    "    target=\"Silver_append_flow_table\"\n",
    ")\n",
    "def bronze_table1():\n",
    "    df = spark.readStream.table(\"c1.s1.external_customertable\")\n",
    "    return df\n",
    "\n",
    "# table2\n",
    "@dlt.append_flow(target=\"Silver_append_flow_table\")\n",
    "def bronze_table2():\n",
    "    df=spark.readStream.table(\"c1.s1.t1\")\n",
    "    return df  "
   ]
  },
  {
   "cell_type": "markdown",
   "metadata": {
    "application/vnd.databricks.v1+cell": {
     "cellMetadata": {},
     "inputWidgets": {},
     "nuid": "3257b366-5276-45bc-a219-acfcb811eed7",
     "showTitle": false,
     "tableResultSettingsMap": {},
     "title": ""
    }
   },
   "source": [
    "# Silver layer materialized view\n",
    "@dlt.table\n",
    "def silver_mat_view1():\n",
    "    # Read data from the first bronze table\n",
    "    df1 = spark.read.table(\"LIVE.bronze_stream_table1\")\n",
    "    \n",
    "    # Read data from the second bronze table\n",
    "    df2 = spark.read.table(\"LIVE.bronze_stream_table2\")\n",
    "    \n",
    "    # Perform union of the two DataFrames\n",
    "    df3 = df1.union(df2)\n",
    "    \n",
    "    return df3"
   ]
  },
  {
   "cell_type": "code",
   "execution_count": 0,
   "metadata": {
    "application/vnd.databricks.v1+cell": {
     "cellMetadata": {},
     "inputWidgets": {},
     "nuid": "f48bf02b-dddb-40e8-9b04-d12c6ab2e2ee",
     "showTitle": false,
     "tableResultSettingsMap": {},
     "title": ""
    }
   },
   "outputs": [],
   "source": [
    "# create a gold table\n",
    "\n",
    "@dlt.table\n",
    "def gold_append_table():\n",
    "    df = spark.read.table(\"LIVE.silver_append_flow_table\")\n",
    "    return df"
   ]
  },
  {
   "cell_type": "code",
   "execution_count": 0,
   "metadata": {
    "application/vnd.databricks.v1+cell": {
     "cellMetadata": {},
     "inputWidgets": {},
     "nuid": "558b988e-9425-42f7-84a2-d648c62dee4c",
     "showTitle": false,
     "tableResultSettingsMap": {},
     "title": ""
    }
   },
   "outputs": [],
   "source": [
    "# Gold layer table materialized table\n",
    "from pyspark.sql.functions import split, col\n",
    "\n",
    "@dlt.table\n",
    "def gold_mat_view1():\n",
    "    # Read data from the silver materialized view\n",
    "    df = spark.read.table(\"LIVE.silver_mat_view1\")\n",
    "    \n",
    "    # Add a new column 'domain' by splitting the 'email' column at '@'\n",
    "    df = df.withColumn(\"domain\", split(col(\"email\"), '@')[1])\n",
    "    \n",
    "    return df"
   ]
  },
  {
   "cell_type": "code",
   "execution_count": 0,
   "metadata": {
    "application/vnd.databricks.v1+cell": {
     "cellMetadata": {},
     "inputWidgets": {},
     "nuid": "d416e686-4a24-441d-ac67-d96cc2b57091",
     "showTitle": false,
     "tableResultSettingsMap": {},
     "title": ""
    }
   },
   "outputs": [],
   "source": [
    "# Create a view based on the materialized view\n",
    "\n",
    "@dlt.view\n",
    "def silver_view1():\n",
    "    df = spark.read.table(\"LIVE.silver_mat_view1\")\n",
    "    df = df.filter(df.age > 20)\n",
    "    return df"
   ]
  },
  {
   "cell_type": "markdown",
   "metadata": {
    "application/vnd.databricks.v1+cell": {
     "cellMetadata": {},
     "inputWidgets": {},
     "nuid": "67b3cc5f-9554-49a0-bfd6-21272028c139",
     "showTitle": false,
     "tableResultSettingsMap": {},
     "title": ""
    }
   },
   "source": [
    "[](https://github.com/KiranSonkamble/deltaLiveTables/blob/main/image.png)"
   ]
  },
  {
   "cell_type": "markdown",
   "metadata": {
    "application/vnd.databricks.v1+cell": {
     "cellMetadata": {},
     "inputWidgets": {},
     "nuid": "dc31ef2e-3eec-45aa-b748-04d286803971",
     "showTitle": false,
     "tableResultSettingsMap": {},
     "title": ""
    }
   },
   "source": [
    "![](image.png)"
   ]
  }
 ],
 "metadata": {
  "application/vnd.databricks.v1+notebook": {
   "computePreferences": null,
   "dashboards": [],
   "environmentMetadata": {
    "base_environment": "",
    "environment_version": "2"
   },
   "language": "python",
   "notebookMetadata": {
    "pythonIndentUnit": 4
   },
   "notebookName": "DLT2",
   "widgets": {}
  },
  "language_info": {
   "name": "python"
  }
 },
 "nbformat": 4,
 "nbformat_minor": 0
}
