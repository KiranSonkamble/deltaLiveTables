{
 "cells": [
  {
   "cell_type": "markdown",
   "metadata": {
    "application/vnd.databricks.v1+cell": {
     "cellMetadata": {},
     "inputWidgets": {},
     "nuid": "bf5744ef-6f24-4317-9cc5-9933f91d07de",
     "showTitle": false,
     "tableResultSettingsMap": {},
     "title": ""
    }
   },
   "source": [
    "# Delta Live Tables"
   ]
  },
  {
   "cell_type": "code",
   "execution_count": 0,
   "metadata": {
    "application/vnd.databricks.v1+cell": {
     "cellMetadata": {
      "byteLimit": 2048000,
      "implicitDf": true,
      "rowLimit": 10000
     },
     "inputWidgets": {},
     "nuid": "21aae003-b7ad-463a-9383-656071411094",
     "showTitle": true,
     "tableResultSettingsMap": {},
     "title": "CREATE Catalog and schema"
    }
   },
   "outputs": [],
   "source": [
    "%sql\n",
    "CREATE CATALOG IF NOT EXISTS catalog_c1;\n",
    "CREATE SCHEMA IF NOT EXISTS catalog_c1.schema_s1;"
   ]
  },
  {
   "cell_type": "code",
   "execution_count": 0,
   "metadata": {
    "application/vnd.databricks.v1+cell": {
     "cellMetadata": {
      "byteLimit": 2048000,
      "implicitDf": true,
      "rowLimit": 10000
     },
     "inputWidgets": {},
     "nuid": "333d2f2e-5a15-4a03-8218-651f5b67779d",
     "showTitle": true,
     "tableResultSettingsMap": {},
     "title": "create table"
    }
   },
   "outputs": [],
   "source": [
    "%sql\n",
    "CREATE TABLE IF NOT EXISTS catalog_c1.schema_s1.external_customertable(\n",
    "  Id INT,\n",
    "  NAME STRING,\n",
    "  Email STRING,\n",
    "  Salary DOUBLE,\n",
    "  Age INT\n",
    ") \n",
    "USING DELTA \n",
    "LOCATION 'abfss://storagedelta@storageforlivetables.dfs.core.windows.net/raw_customer/'"
   ]
  },
  {
   "cell_type": "code",
   "execution_count": 0,
   "metadata": {
    "application/vnd.databricks.v1+cell": {
     "cellMetadata": {
      "byteLimit": 2048000,
      "implicitDf": true,
      "rowLimit": 10000
     },
     "inputWidgets": {},
     "nuid": "fb9961f0-0267-4d65-8372-d4460accf409",
     "showTitle": true,
     "tableResultSettingsMap": {},
     "title": "insert your data"
    }
   },
   "outputs": [],
   "source": [
    "%sql\n",
    "-- Insert the data into table\n",
    "INSERT INTO catalog_c1.schema_s1.external_customertable VALUES (97, 'John', 'Doejohn@ou.com',13432.2,28),\n",
    "(67, 'ne Smith','ne@ou.com',12345.6,22),\n",
    "(87,'qeall','qell@sk.in',21990.9,32),\n",
    "(80, 'John wii', 'wii@ou.com',13432.2,28),\n",
    "(77, 'jh Smith','jh@ou.com',12345.6,23),\n",
    "(96,'wall','wall@sk.in',21990.9,23),\n",
    "(81, 'John wiii','asi@jj.in',9880.9,19),\n",
    "(1, 'John', 'Doejohn@ou.com', 13432.2, 28),\n",
    "(2, 'Jane', 'jane@ou.com', 14500.5, 30),\n",
    "(3, 'Sam', 'sam@sk.in', 9800.7, 25),\n",
    "(4, 'Alice', 'alice@jj.in', 11230.9, 27),\n",
    "(5, 'Bob', 'bob@ou.com', 12500.6, 24),\n",
    "(6, 'ne Smith', 'ne@ou.com', 12345.6, 22),\n",
    "(7, 'jh Smith', 'jh@ou.com', 12345.6, 23),\n",
    "(8, 'qeall', 'qell@sk.in', 21990.9, 32),\n",
    "(9, 'wall', 'wall@sk.in', 21990.9, 23),\n",
    "(10, 'John wii', 'wii@ou.com', 13432.2, 28),\n",
    "(11, 'John wiii', 'asi@jj.in', 9880.9, 19),\n",
    "(12, 'Emily', 'emily@jj.in', 13100.4, 29),\n",
    "(13, 'Michael', 'michael@ou.com', 12000.8, 31),\n",
    "(14, 'Sarah', 'sarah@sk.in', 11050.3, 26),\n",
    "(15, 'David', 'david@jj.in', 11500.7, 28),\n",
    "(16, 'Anna', 'anna@ou.com', 14200.9, 27),\n",
    "(17, 'Chris', 'chris@sk.in', 12950.6, 30),\n",
    "(18, 'Katie', 'katie@jj.in', 10200.5, 25),\n",
    "(19, 'James', 'james@ou.com', 13800.2, 29),\n",
    "(20, 'Olivia', 'olivia@sk.in', 15000.8, 24),\n",
    "(21, 'Liam', 'liam@jj.in', 14650.9, 32),\n",
    "(22, 'Sophia', 'sophia@ou.com', 14000.5, 31),\n",
    "(23, 'Noah', 'noah@sk.in', 11800.7, 27),\n",
    "(24, 'Mia', 'mia@jj.in', 10950.6, 26),\n",
    "(25, 'Isabella', 'isabella@ou.com', 13500.4, 29),\n",
    "(26, 'Aiden', 'aiden@sk.in', 12100.2, 30),\n",
    "(27, 'Lucas', 'lucas@jj.in', 12700.8, 25),\n",
    "(28, 'Amelia', 'amelia@ou.com', 11300.5, 28),\n",
    "(29, 'Zoe', 'zoe@sk.in', 13900.9, 31),\n",
    "(30, 'Jackson', 'jackson@jj.in', 12250.6, 24),\n",
    "(31, 'Harper', 'harper@ou.com', 11600.7, 32),\n",
    "(32, 'Grayson', 'grayson@sk.in', 12400.8, 27),\n",
    "(33, 'Ella', 'ella@jj.in', 14350.9, 26),\n",
    "(34, 'Madison', 'madison@ou.com', 11700.5, 30),\n",
    "(35, 'Ethan', 'ethan@sk.in', 13000.6, 29),\n",
    "(36, 'Avery', 'avery@jj.in', 14850.2, 25),\n",
    "(37, 'Oliver', 'oliver@ou.com', 12600.3, 28),\n",
    "(38, 'Charlotte', 'charlotte@sk.in', 13200.4, 31),\n",
    "(39, 'Henry', 'henry@jj.in', 14450.6, 27),\n",
    "(40, 'Abigail', 'abigail@ou.com', 14100.7, 29),\n",
    "(41, 'Sebastian', 'sebastian@sk.in', 13300.8, 26),\n",
    "(42, 'Emily', 'emily@jj.in', 11000.9, 32),\n",
    "(43, 'Daniel', 'daniel@ou.com', 11900.5, 24),\n",
    "(44, 'Samantha', 'samantha@sk.in', 13750.6, 27),\n",
    "(45, 'Nathan', 'nathan@jj.in', 14900.2, 30);"
   ]
  },
  {
   "cell_type": "code",
   "execution_count": 0,
   "metadata": {
    "application/vnd.databricks.v1+cell": {
     "cellMetadata": {
      "byteLimit": 2048000,
      "implicitDf": true,
      "rowLimit": 10000
     },
     "inputWidgets": {},
     "nuid": "d1397a94-589e-4b36-9a7a-3f7918d2c50b",
     "showTitle": false,
     "tableResultSettingsMap": {},
     "title": ""
    }
   },
   "outputs": [],
   "source": [
    "%sql\n",
    "select * from catalog_c1.schema_s1.external_customertable"
   ]
  }
 ],
 "metadata": {
  "application/vnd.databricks.v1+notebook": {
   "computePreferences": null,
   "dashboards": [],
   "environmentMetadata": {
    "base_environment": "",
    "environment_version": "2"
   },
   "language": "python",
   "notebookMetadata": {
    "mostRecentlyExecutedCommandWithImplicitDF": {
     "commandId": 6706446760904281,
     "dataframes": [
      "_sqldf"
     ]
    },
    "pythonIndentUnit": 4
   },
   "notebookName": "Exteranl_table_Notebook",
   "widgets": {}
  },
  "language_info": {
   "name": "python"
  }
 },
 "nbformat": 4,
 "nbformat_minor": 0
}
